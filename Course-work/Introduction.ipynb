{
 "cells": [
  {
   "cell_type": "markdown",
   "id": "20e45027",
   "metadata": {},
   "source": [
    "\n",
    "<div class=\"bg-info \" style=\"font-family:monospace;\">\n",
    "    <h1>Python Introduction</h1>\n",
    "       <p>\n",
    "            Python is an easy to learn ,powefull programming language.\n",
    "           It has efficient high-level data structures and a simple but effective approach to object oriented  programming language.\n",
    "Python’s elegant syntax and dynamic typing ,togther with its interpreted nature, make it an ideal language for scripting and rapid application development in many areas on most platforms.    \n",
    "    </p>\n",
    "    <h3>Some examples of what you can do with python</h3>\n",
    "    <ul>\n",
    "        <li>Automate simple tasks</li>\n",
    "        <li>Searching for files and editing them.</li>\n",
    "        <li>Scraping information from a website.</li>\n",
    "        <li>Work with pdf’s</li>\n",
    "        <li>Automate email and texts.</li>\n",
    "        <li>Fill out forms.</li>\n",
    "        <li>Reading and editing excel files.</li>\n",
    "        <li>Data science and machine learning.</li>\n",
    "        <li>Analyze large data files.</li>\n",
    "        <li>Create visualizations.</li>\n",
    "        <li>Perform machine learning tasks.</li>\n",
    "        <li>Create and run predictive algorithms.</li>\n",
    "        <li>Create and run predictive algorithms.</li>\n",
    "        <li>Create websites.</li>    \n",
    "    </ul>\n",
    "    <h3>Some Popular programs / softwares written in python</h3>\n",
    "    <ul>\n",
    "        <li>Youtube</li>\n",
    "        <li>Instagram</li>\n",
    "        <li>Google</li>\n",
    "        <li>Spotify</li>\n",
    "        <li>Dropbox</li>\n",
    "        <li>Quora</li>         \n",
    "    </ul>    \n",
    "</div>\n",
    "\n"
   ]
  },
  {
   "cell_type": "code",
   "execution_count": null,
   "id": "e5d06d31",
   "metadata": {},
   "outputs": [],
   "source": []
  }
 ],
 "metadata": {
  "kernelspec": {
   "display_name": "Python 3 (ipykernel)",
   "language": "python",
   "name": "python3"
  },
  "language_info": {
   "codemirror_mode": {
    "name": "ipython",
    "version": 3
   },
   "file_extension": ".py",
   "mimetype": "text/x-python",
   "name": "python",
   "nbconvert_exporter": "python",
   "pygments_lexer": "ipython3",
   "version": "3.8.10"
  }
 },
 "nbformat": 4,
 "nbformat_minor": 5
}
