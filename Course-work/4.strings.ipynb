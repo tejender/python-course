{
 "cells": [
  {
   "cell_type": "markdown",
   "id": "5eb00baa",
   "metadata": {},
   "source": [
    "<div style=\"background:yellow; font-size:3rem;padding:20px 0\">Strings in python</div>"
   ]
  },
  {
   "cell_type": "markdown",
   "id": "a22d3c8e",
   "metadata": {},
   "source": [
    "A string is a ordered sequence of characters.Besides numbers, Python can also manipulate strings, which can be expressed in several ways. They can be enclosed in single quotes ('...') or double quotes (\"...\") with the same result 2. \\ can be used to escape quotes."
   ]
  },
  {
   "cell_type": "markdown",
   "id": "b84557f3",
   "metadata": {},
   "source": [
    "### Creating strings in python"
   ]
  },
  {
   "cell_type": "code",
   "execution_count": 6,
   "id": "0811585c",
   "metadata": {
    "scrolled": true
   },
   "outputs": [
    {
     "name": "stdout",
     "output_type": "stream",
     "text": [
      "tejender\n",
      "<class 'str'>\n"
     ]
    }
   ],
   "source": [
    "name = \"tejender\"\n",
    "print(name)\n",
    "print(type(name))"
   ]
  },
  {
   "cell_type": "code",
   "execution_count": 7,
   "id": "9fbbdece",
   "metadata": {},
   "outputs": [
    {
     "name": "stdout",
     "output_type": "stream",
     "text": [
      "john\n"
     ]
    }
   ],
   "source": [
    "name = 'john'\n",
    "print(name)"
   ]
  },
  {
   "cell_type": "markdown",
   "id": "8407ff1f",
   "metadata": {},
   "source": [
    "### String Slicing and indexing"
   ]
  },
  {
   "cell_type": "markdown",
   "id": "05c0abf1",
   "metadata": {},
   "source": [
    "Because strings are ordered sequences it means we can use indexing and slicing to grab sub sections of the string"
   ]
  },
  {
   "cell_type": "markdown",
   "id": "06336210",
   "metadata": {},
   "source": [
    "**String Indexing**\n",
    ":   Indexing allows us to access individual characters in a string directly by using a numeric value. String   indexing is zero-based: the first character in the string has index 0, the next is 1, and so on"
   ]
  },
  {
   "cell_type": "code",
   "execution_count": null,
   "id": "df18f7d6",
   "metadata": {},
   "outputs": [],
   "source": [
    "name = 'tejender'\n",
    "print(name[0])\n",
    "print(name[4])"
   ]
  },
  {
   "cell_type": "markdown",
   "id": "ee61c0cc",
   "metadata": {},
   "source": [
    "negative (reverse) indexing starts from last element being -1 secondlast -2 and so on."
   ]
  },
  {
   "cell_type": "code",
   "execution_count": 38,
   "id": "87510ae7",
   "metadata": {},
   "outputs": [
    {
     "name": "stdout",
     "output_type": "stream",
     "text": [
      "n\n",
      "j\n"
     ]
    }
   ],
   "source": [
    "name = 'john'\n",
    "print(name[-1])\n",
    "print(name[-4])"
   ]
  },
  {
   "cell_type": "markdown",
   "id": "cc1a5ede",
   "metadata": {},
   "source": [
    "The string index out of range errr indicates that the index you are attempting to reach does not exist"
   ]
  },
  {
   "cell_type": "code",
   "execution_count": 21,
   "id": "414431e2",
   "metadata": {},
   "outputs": [
    {
     "ename": "IndexError",
     "evalue": "string index out of range",
     "output_type": "error",
     "traceback": [
      "\u001b[0;31m---------------------------------------------------------------------------\u001b[0m",
      "\u001b[0;31mIndexError\u001b[0m                                Traceback (most recent call last)",
      "Cell \u001b[0;32mIn [21], line 2\u001b[0m\n\u001b[1;32m      1\u001b[0m name\u001b[38;5;241m=\u001b[39m\u001b[38;5;124m'\u001b[39m\u001b[38;5;124msmith\u001b[39m\u001b[38;5;124m'\u001b[39m\n\u001b[0;32m----> 2\u001b[0m \u001b[38;5;28mprint\u001b[39m(\u001b[43mname\u001b[49m\u001b[43m[\u001b[49m\u001b[38;5;241;43m5\u001b[39;49m\u001b[43m]\u001b[49m)\n",
      "\u001b[0;31mIndexError\u001b[0m: string index out of range"
     ]
    }
   ],
   "source": [
    "name='smith'\n",
    "print(name[5])"
   ]
  },
  {
   "cell_type": "markdown",
   "id": "2ba52ed2",
   "metadata": {},
   "source": [
    "**String Slicing**\n",
    ":  Slicing allows us to grab a subsaction of a string.This has the following syntax\n",
    "**[start:stop:step]**"
   ]
  },
  {
   "cell_type": "markdown",
   "id": "e19d74e7",
   "metadata": {},
   "source": [
    "**Start** is a numerical index of for the slice start<br>\n",
    "**stop** is the index we will g uo to (but not include)<br>\n",
    "**Step** is size of the jump we take"
   ]
  },
  {
   "cell_type": "code",
   "execution_count": 32,
   "id": "3aa4f2f3",
   "metadata": {},
   "outputs": [
    {
     "name": "stdout",
     "output_type": "stream",
     "text": [
      "welcome to python classes\n",
      "welcome \n",
      "wloe\n",
      "wce\n"
     ]
    }
   ],
   "source": [
    "message = 'wellcome to python classes'\n",
    "print(message)\n",
    "print(message[0:8:1])\n",
    "print(message[0:8:2])\n",
    "print(message[0:8:3])"
   ]
  },
  {
   "cell_type": "markdown",
   "id": "86b009dc",
   "metadata": {},
   "source": [
    "Omiting the first index means we are grabing subsection from start"
   ]
  },
  {
   "cell_type": "code",
   "execution_count": 34,
   "id": "6b818709",
   "metadata": {},
   "outputs": [
    {
     "name": "stdout",
     "output_type": "stream",
     "text": [
      "hl\n"
     ]
    }
   ],
   "source": [
    "message = 'hello world'\n",
    "print(message[:3:2])"
   ]
  },
  {
   "cell_type": "markdown",
   "id": "b6c9b46f",
   "metadata": {},
   "source": [
    "Omiting the last index means we are grabing subsection till the end."
   ]
  },
  {
   "cell_type": "code",
   "execution_count": 36,
   "id": "90262ece",
   "metadata": {},
   "outputs": [
    {
     "name": "stdout",
     "output_type": "stream",
     "text": [
      " is 20\n"
     ]
    }
   ],
   "source": [
    "message = 'my age is 20'\n",
    "print(message[6::1])"
   ]
  },
  {
   "cell_type": "markdown",
   "id": "1b365040",
   "metadata": {},
   "source": [
    "Omiting the step size means we are using stepsize = 1 (default step size)"
   ]
  },
  {
   "cell_type": "code",
   "execution_count": 40,
   "id": "917518b3",
   "metadata": {},
   "outputs": [
    {
     "name": "stdout",
     "output_type": "stream",
     "text": [
      "m lea\n",
      "m lea\n"
     ]
    }
   ],
   "source": [
    "message = \"I am learning python\"\n",
    "print(message[3:8:1])\n",
    "print(message[3:8])"
   ]
  },
  {
   "cell_type": "markdown",
   "id": "6a25884e",
   "metadata": {},
   "source": [
    "<b>Negative index Slicing</b>"
   ]
  },
  {
   "cell_type": "code",
   "execution_count": 46,
   "id": "5131cf6d",
   "metadata": {},
   "outputs": [
    {
     "name": "stdout",
     "output_type": "stream",
     "text": [
      "53 23\n"
     ]
    }
   ],
   "source": [
    "contact = \"+1 985 453 2345\"\n",
    "print(contact[-7:-2])"
   ]
  },
  {
   "cell_type": "markdown",
   "id": "9494aac5",
   "metadata": {},
   "source": [
    "<b>Modifying String in python</b>"
   ]
  },
  {
   "cell_type": "markdown",
   "id": "22ba1e0c",
   "metadata": {},
   "source": [
    "<p>\n",
    "    Strings are immutable, meaning they can’t be modified. In this Section, we’ll learn how to accomplish changing strings by generating a copy of the original string instead:\n",
    "</p>"
   ]
  },
  {
   "cell_type": "code",
   "execution_count": 49,
   "id": "5917566c",
   "metadata": {},
   "outputs": [
    {
     "ename": "TypeError",
     "evalue": "'str' object does not support item assignment",
     "output_type": "error",
     "traceback": [
      "\u001b[0;31m---------------------------------------------------------------------------\u001b[0m",
      "\u001b[0;31mTypeError\u001b[0m                                 Traceback (most recent call last)",
      "Cell \u001b[0;32mIn [49], line 2\u001b[0m\n\u001b[1;32m      1\u001b[0m name \u001b[38;5;241m=\u001b[39m \u001b[38;5;124m'\u001b[39m\u001b[38;5;124mjohn\u001b[39m\u001b[38;5;124m'\u001b[39m\n\u001b[0;32m----> 2\u001b[0m \u001b[43mname\u001b[49m\u001b[43m[\u001b[49m\u001b[38;5;241;43m2\u001b[39;49m\u001b[43m]\u001b[49m\u001b[38;5;241m=\u001b[39m\u001b[38;5;124m'\u001b[39m\u001b[38;5;124mg\u001b[39m\u001b[38;5;124m'\u001b[39m\n",
      "\u001b[0;31mTypeError\u001b[0m: 'str' object does not support item assignment"
     ]
    }
   ],
   "source": [
    "name = 'john'\n",
    "name[2]='g'"
   ]
  },
  {
   "cell_type": "markdown",
   "id": "d9996211",
   "metadata": {},
   "source": [
    "String Properties and methods"
   ]
  },
  {
   "cell_type": "code",
   "execution_count": 54,
   "id": "eab7bf5e",
   "metadata": {},
   "outputs": [
    {
     "name": "stdout",
     "output_type": "stream",
     "text": [
      "tejendertejender\n"
     ]
    }
   ],
   "source": [
    "name = \"tejender\"\n",
    "name = name+name\n",
    "print(name)"
   ]
  },
  {
   "cell_type": "code",
   "execution_count": 60,
   "id": "82f03042",
   "metadata": {},
   "outputs": [
    {
     "ename": "TypeError",
     "evalue": "can only concatenate str (not \"int\") to str",
     "output_type": "error",
     "traceback": [
      "\u001b[0;31m---------------------------------------------------------------------------\u001b[0m",
      "\u001b[0;31mTypeError\u001b[0m                                 Traceback (most recent call last)",
      "Cell \u001b[0;32mIn [60], line 3\u001b[0m\n\u001b[1;32m      1\u001b[0m name\u001b[38;5;241m=\u001b[39m \u001b[38;5;124m'\u001b[39m\u001b[38;5;124mjohn\u001b[39m\u001b[38;5;124m'\u001b[39m\n\u001b[1;32m      2\u001b[0m age\u001b[38;5;241m=\u001b[39m \u001b[38;5;241m20\u001b[39m\n\u001b[0;32m----> 3\u001b[0m name \u001b[38;5;241m=\u001b[39m \u001b[43mname\u001b[49m\u001b[43m \u001b[49m\u001b[38;5;241;43m+\u001b[39;49m\u001b[43m \u001b[49m\u001b[43mage\u001b[49m\n",
      "\u001b[0;31mTypeError\u001b[0m: can only concatenate str (not \"int\") to str"
     ]
    }
   ],
   "source": [
    "name= 'john'\n",
    "age= 20\n",
    "name = name + age"
   ]
  },
  {
   "cell_type": "markdown",
   "id": "55eea101",
   "metadata": {},
   "source": [
    "String Methods"
   ]
  },
  {
   "cell_type": "code",
   "execution_count": 66,
   "id": "4f865a23",
   "metadata": {},
   "outputs": [
    {
     "data": {
      "text/plain": [
       "'HELLO WORLD'"
      ]
     },
     "execution_count": 66,
     "metadata": {},
     "output_type": "execute_result"
    }
   ],
   "source": [
    "message = \"hello WOrld\"\n",
    "message.upper()"
   ]
  },
  {
   "cell_type": "code",
   "execution_count": 68,
   "id": "deaef379",
   "metadata": {},
   "outputs": [
    {
     "data": {
      "text/plain": [
       "'hello world'"
      ]
     },
     "execution_count": 68,
     "metadata": {},
     "output_type": "execute_result"
    }
   ],
   "source": [
    "message.lower()"
   ]
  },
  {
   "cell_type": "code",
   "execution_count": 72,
   "id": "599c167d",
   "metadata": {},
   "outputs": [
    {
     "data": {
      "text/plain": [
       "['he', '', 'o WOr', 'd']"
      ]
     },
     "execution_count": 72,
     "metadata": {},
     "output_type": "execute_result"
    }
   ],
   "source": [
    "message.split('l')"
   ]
  }
 ],
 "metadata": {
  "kernelspec": {
   "display_name": "Python 3 (ipykernel)",
   "language": "python",
   "name": "python3"
  },
  "language_info": {
   "codemirror_mode": {
    "name": "ipython",
    "version": 3
   },
   "file_extension": ".py",
   "mimetype": "text/x-python",
   "name": "python",
   "nbconvert_exporter": "python",
   "pygments_lexer": "ipython3",
   "version": "3.8.10"
  }
 },
 "nbformat": 4,
 "nbformat_minor": 5
}
