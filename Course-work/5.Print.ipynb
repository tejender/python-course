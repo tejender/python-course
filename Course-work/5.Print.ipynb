{
 "cells": [
  {
   "cell_type": "markdown",
   "id": "11b48ede",
   "metadata": {},
   "source": [
    "Print Function in python"
   ]
  },
  {
   "cell_type": "markdown",
   "id": "86b0dbf2",
   "metadata": {},
   "source": [
    "<p>\n",
    "    The print() function prints the specified message to the screen, or other standard output device.\n",
    "   The message can be a string, or any other object, the object will be converted into a string before written to     the screen.\n",
    "</p>"
   ]
  },
  {
   "cell_type": "markdown",
   "id": "903ee956",
   "metadata": {},
   "source": [
    "Calling Print()\n",
    "The simplest example of using Python print() is that we call it without any argument. In such case it will print new line"
   ]
  },
  {
   "cell_type": "code",
   "execution_count": 10,
   "id": "d6e39489",
   "metadata": {},
   "outputs": [
    {
     "name": "stdout",
     "output_type": "stream",
     "text": [
      "\n",
      "\n",
      "hi\n"
     ]
    }
   ],
   "source": [
    "print()\n",
    "print()\n",
    "print('hi')"
   ]
  },
  {
   "cell_type": "markdown",
   "id": "c6259c1e",
   "metadata": {},
   "source": [
    "In a more common scenario, you’d want to communicate some message to the end user. There are a few ways to achieve this.\n",
    "\n",
    "First, you may pass a string literal directly to print():"
   ]
  },
  {
   "cell_type": "code",
   "execution_count": 12,
   "id": "50057a44",
   "metadata": {},
   "outputs": [
    {
     "name": "stdout",
     "output_type": "stream",
     "text": [
      "hello world\n"
     ]
    }
   ],
   "source": [
    "print(\"hello world\")"
   ]
  },
  {
   "cell_type": "markdown",
   "id": "084b3692",
   "metadata": {},
   "source": [
    "Secondly, you could extract that message into its own variable with a meaningful name to enhance readability and promote code reuse:"
   ]
  },
  {
   "cell_type": "code",
   "execution_count": 14,
   "id": "3db58d56",
   "metadata": {},
   "outputs": [
    {
     "name": "stdout",
     "output_type": "stream",
     "text": [
      "hello world\n"
     ]
    }
   ],
   "source": [
    "message = \"hello world\"\n",
    "print(message)"
   ]
  },
  {
   "cell_type": "markdown",
   "id": "8739063a",
   "metadata": {},
   "source": [
    "Third , we can also evaluate an expression "
   ]
  },
  {
   "cell_type": "code",
   "execution_count": 15,
   "id": "6b15fd7d",
   "metadata": {},
   "outputs": [
    {
     "name": "stdout",
     "output_type": "stream",
     "text": [
      "0.75\n"
     ]
    }
   ],
   "source": [
    "print(2+3/4-2)"
   ]
  },
  {
   "cell_type": "markdown",
   "id": "662c7ab6",
   "metadata": {},
   "source": [
    "Lastly , we can combine all above in single print"
   ]
  },
  {
   "cell_type": "code",
   "execution_count": 21,
   "id": "beea4c38",
   "metadata": {},
   "outputs": [
    {
     "name": "stdout",
     "output_type": "stream",
     "text": [
      "my name is tejender\n"
     ]
    }
   ],
   "source": [
    "name = \"tejender\"\n",
    "print(\"my name is\" , name)"
   ]
  },
  {
   "cell_type": "code",
   "execution_count": null,
   "id": "72549337",
   "metadata": {},
   "outputs": [],
   "source": []
  }
 ],
 "metadata": {
  "kernelspec": {
   "display_name": "Python 3 (ipykernel)",
   "language": "python",
   "name": "python3"
  },
  "language_info": {
   "codemirror_mode": {
    "name": "ipython",
    "version": 3
   },
   "file_extension": ".py",
   "mimetype": "text/x-python",
   "name": "python",
   "nbconvert_exporter": "python",
   "pygments_lexer": "ipython3",
   "version": "3.8.10"
  }
 },
 "nbformat": 4,
 "nbformat_minor": 5
}
