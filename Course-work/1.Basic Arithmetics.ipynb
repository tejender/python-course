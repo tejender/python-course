{
 "cells": [
  {
   "cell_type": "markdown",
   "id": "aa0cd501",
   "metadata": {},
   "source": [
    "# Basic Arithmatic oerations in python "
   ]
  },
  {
   "cell_type": "markdown",
   "id": "8db23f85",
   "metadata": {},
   "source": [
    "**Addition (+)**"
   ]
  },
  {
   "cell_type": "code",
   "execution_count": 2,
   "id": "7d2b66f5",
   "metadata": {},
   "outputs": [
    {
     "data": {
      "text/plain": [
       "5"
      ]
     },
     "execution_count": 2,
     "metadata": {},
     "output_type": "execute_result"
    }
   ],
   "source": [
    "2+3"
   ]
  },
  {
   "cell_type": "markdown",
   "id": "0a116bc1",
   "metadata": {},
   "source": [
    "**Substraction (-)**"
   ]
  },
  {
   "cell_type": "code",
   "execution_count": 3,
   "id": "d5dc7479",
   "metadata": {},
   "outputs": [
    {
     "data": {
      "text/plain": [
       "-1"
      ]
     },
     "execution_count": 3,
     "metadata": {},
     "output_type": "execute_result"
    }
   ],
   "source": [
    "3-4"
   ]
  },
  {
   "cell_type": "markdown",
   "id": "431d7f9a",
   "metadata": {},
   "source": [
    "**Division (/)**"
   ]
  },
  {
   "cell_type": "code",
   "execution_count": 4,
   "id": "7f08fd48",
   "metadata": {},
   "outputs": [
    {
     "data": {
      "text/plain": [
       "2.5"
      ]
     },
     "execution_count": 4,
     "metadata": {},
     "output_type": "execute_result"
    }
   ],
   "source": [
    "5/2"
   ]
  },
  {
   "cell_type": "markdown",
   "id": "cca70b3d",
   "metadata": {},
   "source": [
    "**Floor Division (//)**"
   ]
  },
  {
   "cell_type": "code",
   "execution_count": 5,
   "id": "ceb220b8",
   "metadata": {},
   "outputs": [
    {
     "data": {
      "text/plain": [
       "2"
      ]
     },
     "execution_count": 5,
     "metadata": {},
     "output_type": "execute_result"
    }
   ],
   "source": [
    "5//2"
   ]
  },
  {
   "cell_type": "markdown",
   "id": "0288d2e3",
   "metadata": {},
   "source": [
    "**Modulus (reminder) (%)**"
   ]
  },
  {
   "cell_type": "code",
   "execution_count": 6,
   "id": "f96d04fc",
   "metadata": {},
   "outputs": [
    {
     "data": {
      "text/plain": [
       "3"
      ]
     },
     "execution_count": 6,
     "metadata": {},
     "output_type": "execute_result"
    }
   ],
   "source": [
    "10 % 7"
   ]
  },
  {
   "cell_type": "markdown",
   "id": "793c08ec",
   "metadata": {},
   "source": [
    "**Multiplication (*)**"
   ]
  },
  {
   "cell_type": "code",
   "execution_count": 50,
   "id": "82fe3826",
   "metadata": {},
   "outputs": [
    {
     "data": {
      "text/plain": [
       "7.0"
      ]
     },
     "execution_count": 50,
     "metadata": {},
     "output_type": "execute_result"
    }
   ],
   "source": [
    "2*3.5"
   ]
  },
  {
   "cell_type": "markdown",
   "id": "5811914c",
   "metadata": {},
   "source": [
    "**Exponention (**)"
   ]
  },
  {
   "cell_type": "code",
   "execution_count": 24,
   "id": "ed07330e",
   "metadata": {},
   "outputs": [
    {
     "data": {
      "text/plain": [
       "8"
      ]
     },
     "execution_count": 24,
     "metadata": {},
     "output_type": "execute_result"
    }
   ],
   "source": [
    "2**3"
   ]
  }
 ],
 "metadata": {
  "kernelspec": {
   "display_name": "Python 3 (ipykernel)",
   "language": "python",
   "name": "python3"
  },
  "language_info": {
   "codemirror_mode": {
    "name": "ipython",
    "version": 3
   },
   "file_extension": ".py",
   "mimetype": "text/x-python",
   "name": "python",
   "nbconvert_exporter": "python",
   "pygments_lexer": "ipython3",
   "version": "3.8.10"
  }
 },
 "nbformat": 4,
 "nbformat_minor": 5
}
