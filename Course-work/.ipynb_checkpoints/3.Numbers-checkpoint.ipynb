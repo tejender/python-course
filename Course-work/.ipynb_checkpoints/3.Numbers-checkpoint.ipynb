{
 "cells": [
  {
   "cell_type": "markdown",
   "id": "34065b11",
   "metadata": {},
   "source": [
    "# Numbers in Python\n",
    "\n",
    "    In python there are two basic types of numbers <br>\n",
    "         1. Integers. <br>\n",
    "         2. Floating point numbers. <br>\n",
    "    Python also has built in support for complex numbers <br>"
   ]
  },
  {
   "cell_type": "markdown",
   "id": "9c27f1b2",
   "metadata": {},
   "source": [
    "**Int : -** Int, or integer, is a whole number, positive or negative, without decimals, of unlimited length."
   ]
  },
  {
   "cell_type": "code",
   "execution_count": 4,
   "id": "5020da62",
   "metadata": {
    "scrolled": true
   },
   "outputs": [
    {
     "name": "stdout",
     "output_type": "stream",
     "text": [
      "age is of type =  <class 'int'>\n",
      "my age is =  20\n"
     ]
    }
   ],
   "source": [
    "age=20\n",
    "print('age is of type = ' ,type(age))\n",
    "print('my age is = ', age)"
   ]
  },
  {
   "cell_type": "markdown",
   "id": "df40c974",
   "metadata": {},
   "source": [
    "**float : -** Float, or \"floating point number\" is a number, positive or negative, containing one or more decimals."
   ]
  },
  {
   "cell_type": "code",
   "execution_count": 6,
   "id": "678c032c",
   "metadata": {},
   "outputs": [
    {
     "name": "stdout",
     "output_type": "stream",
     "text": [
      "my height is 6.3\n",
      "height is of type <class 'float'>\n"
     ]
    }
   ],
   "source": [
    "height = 6.3\n",
    "print('my height is', height)\n",
    "print ('height is of type',(type(height)))"
   ]
  },
  {
   "cell_type": "markdown",
   "id": "7b263110",
   "metadata": {},
   "source": [
    "**complex number : -** Complex numbers are written with a \"j\" as the imaginary part:"
   ]
  },
  {
   "cell_type": "code",
   "execution_count": 7,
   "id": "b602f381",
   "metadata": {},
   "outputs": [
    {
     "name": "stdout",
     "output_type": "stream",
     "text": [
      "x is of type =  <class 'complex'>\n",
      "value of x is= 1j\n"
     ]
    }
   ],
   "source": [
    "x=1j\n",
    "print('x is of type = ',type(x))\n",
    "print('value of x is=',x)"
   ]
  }
 ],
 "metadata": {
  "kernelspec": {
   "display_name": "Python 3 (ipykernel)",
   "language": "python",
   "name": "python3"
  },
  "language_info": {
   "codemirror_mode": {
    "name": "ipython",
    "version": 3
   },
   "file_extension": ".py",
   "mimetype": "text/x-python",
   "name": "python",
   "nbconvert_exporter": "python",
   "pygments_lexer": "ipython3",
   "version": "3.8.10"
  }
 },
 "nbformat": 4,
 "nbformat_minor": 5
}
