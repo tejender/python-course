{
 "cells": [
  {
   "cell_type": "markdown",
   "id": "2cd4792c",
   "metadata": {},
   "source": [
    "# Variable in Python"
   ]
  },
  {
   "cell_type": "markdown",
   "id": "4d3fa53a",
   "metadata": {},
   "source": [
    "A Python variable is a symbolic name that is a reference or pointer to an object/value. Once an object/alue is assigned to a variable, you can refer to the object/value by that name."
   ]
  },
  {
   "cell_type": "markdown",
   "id": "5f650607",
   "metadata": {},
   "source": [
    "### Variable Assignment\n",
    " In Python, variables need not be declared or defined in advance, as is the case in many other programming languages. To create a variable, we just assign it a value and then start using it. Assignment is done with a single equals sign (=):"
   ]
  },
  {
   "cell_type": "code",
   "execution_count": 1,
   "id": "15342168",
   "metadata": {},
   "outputs": [
    {
     "name": "stdout",
     "output_type": "stream",
     "text": [
      "20\n"
     ]
    }
   ],
   "source": [
    "x=20\n",
    "print(x)"
   ]
  },
  {
   "cell_type": "markdown",
   "id": "5678449b",
   "metadata": {},
   "source": [
    "Later, if we  change the value of variable and use it again, the new value will be substituted instead:"
   ]
  },
  {
   "cell_type": "code",
   "execution_count": 2,
   "id": "835b5c19",
   "metadata": {},
   "outputs": [
    {
     "name": "stdout",
     "output_type": "stream",
     "text": [
      "50\n",
      "30\n"
     ]
    }
   ],
   "source": [
    "x=50\n",
    "print(x)\n",
    "x=30\n",
    "print(x)"
   ]
  },
  {
   "cell_type": "markdown",
   "id": "7df946cd",
   "metadata": {},
   "source": [
    "#### Chain Assignment\n",
    "Python also allows chained assignment, which makes it possible to assign the same value to several variables simultaneously:"
   ]
  },
  {
   "cell_type": "code",
   "execution_count": 3,
   "id": "c54e0205",
   "metadata": {},
   "outputs": [
    {
     "name": "stdout",
     "output_type": "stream",
     "text": [
      "30 30 30\n"
     ]
    }
   ],
   "source": [
    "x=y=z=30\n",
    "print(x,y,z)"
   ]
  },
  {
   "cell_type": "markdown",
   "id": "2a9d26e3",
   "metadata": {},
   "source": [
    "#### Multiple Assignment\n",
    "We can also assign different values to multiple variables in chained fashion."
   ]
  },
  {
   "cell_type": "code",
   "execution_count": 4,
   "id": "bf87dd4e",
   "metadata": {},
   "outputs": [
    {
     "name": "stdout",
     "output_type": "stream",
     "text": [
      "10 20 30\n"
     ]
    }
   ],
   "source": [
    "x,y,z=10,20,30\n",
    "print(x,y,z)"
   ]
  },
  {
   "cell_type": "markdown",
   "id": "c58feea5",
   "metadata": {},
   "source": [
    "### Variable type in python\n",
    "In many programming languages, variables are statically typed. That means a variable is initially declared to have a specific data type, and any value assigned to it during its lifetime must always have that type.<br>\n",
    "Variables in Python are not subject to this restriction. In Python, a variable may be assigned a value of one type and then later re-assigned a value of a different type:"
   ]
  },
  {
   "cell_type": "code",
   "execution_count": 5,
   "id": "42955765",
   "metadata": {},
   "outputs": [
    {
     "name": "stdout",
     "output_type": "stream",
     "text": [
      "20\n",
      "<class 'int'>\n",
      "now im changed to string\n",
      "<class 'str'>\n"
     ]
    }
   ],
   "source": [
    "var = 20\n",
    "print(var)\n",
    "print(type(var))\n",
    "var=\"now im changed to string\"\n",
    "print(var)\n",
    "print(type(var))"
   ]
  },
  {
   "cell_type": "markdown",
   "id": "862e905c",
   "metadata": {},
   "source": [
    "### Variable names in python"
   ]
  },
  {
   "cell_type": "markdown",
   "id": "975779df",
   "metadata": {},
   "source": [
    "Officially, variable names in Python can be any length and can consist of uppercase and lowercase letters (A-Z, a-z), digits (0-9), and the underscore character (_)."
   ]
  },
  {
   "cell_type": "markdown",
   "id": "2d3baf6d",
   "metadata": {},
   "source": [
    "   **Rules for Python variables:**"
   ]
  },
  {
   "cell_type": "markdown",
   "id": "5bebe0a6",
   "metadata": {},
   "source": [
    "1. A variable name must start with a letter or the underscore character."
   ]
  },
  {
   "cell_type": "code",
   "execution_count": 6,
   "id": "f355be02",
   "metadata": {},
   "outputs": [
    {
     "name": "stdout",
     "output_type": "stream",
     "text": [
      "tejender john\n"
     ]
    }
   ],
   "source": [
    "name=\"tejender\"\n",
    "_name=\"john\"\n",
    "print(name,_name)"
   ]
  },
  {
   "cell_type": "markdown",
   "id": "f57b90d1",
   "metadata": {},
   "source": [
    "2. A variable name cannot start with a number."
   ]
  },
  {
   "cell_type": "code",
   "execution_count": 7,
   "id": "71532eed",
   "metadata": {},
   "outputs": [
    {
     "ename": "SyntaxError",
     "evalue": "invalid syntax (2104890239.py, line 1)",
     "output_type": "error",
     "traceback": [
      "\u001b[0;36m  Cell \u001b[0;32mIn [7], line 1\u001b[0;36m\u001b[0m\n\u001b[0;31m    4age=20\u001b[0m\n\u001b[0m     ^\u001b[0m\n\u001b[0;31mSyntaxError\u001b[0m\u001b[0;31m:\u001b[0m invalid syntax\n"
     ]
    }
   ],
   "source": [
    "4age=20\n",
    "print(4age)"
   ]
  },
  {
   "cell_type": "markdown",
   "id": "e7a076b2",
   "metadata": {},
   "source": [
    "3. A variable name can only contain alpha-numeric characters and underscores (A-z, 0-9, and _ )."
   ]
  },
  {
   "cell_type": "code",
   "execution_count": null,
   "id": "c0946c81",
   "metadata": {
    "scrolled": true
   },
   "outputs": [],
   "source": [
    "my_name=\"tejender\"\n",
    "print(my_name)\n",
    "my_name123 = \"john\"\n",
    "print(my_name123)"
   ]
  },
  {
   "cell_type": "code",
   "execution_count": null,
   "id": "766d99e2",
   "metadata": {},
   "outputs": [],
   "source": [
    "my&name=\"max\"\n",
    "print(max)"
   ]
  },
  {
   "cell_type": "markdown",
   "id": "fdc35152",
   "metadata": {},
   "source": [
    "4. Variable names are case-sensitive (age, Age and AGE are three different variables)."
   ]
  },
  {
   "cell_type": "code",
   "execution_count": null,
   "id": "b9b2395f",
   "metadata": {},
   "outputs": [],
   "source": [
    "age=20\n",
    "Age=30\n",
    "AGE=40\n",
    "print(age,Age,AGE)"
   ]
  },
  {
   "cell_type": "markdown",
   "id": "6d0fd852",
   "metadata": {},
   "source": [
    "<div class=\"alert alert-block alert-info\">\n",
    "<b>Tip:</b>  There is nothing out of the syntax /rule while creating two different variables in the same program called age and Age, or for that matter agE. But it is probably ill-advised / not recomended . Because It would certainly confuse anyone trying to read your code, and even you yourself, after you’d been away from it awhile.<br>\n",
    "It is worthwhile to give a variable a name that is descriptive enough to make clear what it is being used for\n",
    "</div>\n"
   ]
  },
  {
   "cell_type": "markdown",
   "id": "32ab1c98",
   "metadata": {},
   "source": [
    "#### The most commonly used methods of constructing a multi-word variable name are as follows"
   ]
  },
  {
   "cell_type": "markdown",
   "id": "d9148589",
   "metadata": {},
   "source": [
    "**Camel Case**\n",
    ": Second and subsequent words are capitalized, to make word boundaries easier to see. (Presumably, it struck someone at some point that the capital letters strewn throughout the variable name vaguely resemble camel humps.) "
   ]
  },
  {
   "cell_type": "code",
   "execution_count": null,
   "id": "4cfe0900",
   "metadata": {},
   "outputs": [],
   "source": [
    "collageName=\"MIT\""
   ]
  },
  {
   "cell_type": "markdown",
   "id": "39efdb69",
   "metadata": {},
   "source": [
    "**Pascal Case**\n",
    ": Identical to Camel Case, except the first word is also capitalized."
   ]
  },
  {
   "cell_type": "code",
   "execution_count": null,
   "id": "9ab49a8f",
   "metadata": {},
   "outputs": [],
   "source": [
    "CollageName=\"MIT\""
   ]
  },
  {
   "cell_type": "markdown",
   "id": "c7dc53e2",
   "metadata": {},
   "source": [
    "**Snake Case**\n",
    ": Words are separated by underscores."
   ]
  },
  {
   "cell_type": "code",
   "execution_count": null,
   "id": "3210fa57",
   "metadata": {},
   "outputs": [],
   "source": [
    "collage_name=\"MIT\""
   ]
  },
  {
   "cell_type": "markdown",
   "id": "6eaa809f",
   "metadata": {},
   "source": [
    "<div class=\"alert alert-block alert-info\">\n",
    "<b>Tip:</b> Which of these is preferable is endless debate. Decent arguments can be made for all of them. Use whichever of the three is most visually appealing to you. Pick one and use it consistently.\n",
    "</div>"
   ]
  },
  {
   "cell_type": "markdown",
   "id": "1234eacb",
   "metadata": {},
   "source": [
    "### Reserved Words (Keywords)\n",
    "    "
   ]
  },
  {
   "cell_type": "markdown",
   "id": "957b705c",
   "metadata": {},
   "source": [
    "There is one more restriction on identifier names. The Python language reserves a small set of keywords that designate special language functionality. No object can have the same name as a reserved word.\n",
    "\n",
    "In Python 3.6, there are 33 reserved keywords:"
   ]
  },
  {
   "cell_type": "markdown",
   "id": "77687b4f",
   "metadata": {},
   "source": [
    "<div class=\"alert alert-block alert-success\">\n",
    "    False , def , if, raise, None, del, import, return, True, elif, in, try, and, else, is, while,as,except,\t  lambda, with, assert, finally, nonlocal, yield, break, for, not, class, from, or, continue, global, pass  \n",
    " </div>"
   ]
  },
  {
   "cell_type": "code",
   "execution_count": null,
   "id": "5cc76e64",
   "metadata": {},
   "outputs": [],
   "source": []
  }
 ],
 "metadata": {
  "kernelspec": {
   "display_name": "Python 3 (ipykernel)",
   "language": "python",
   "name": "python3"
  },
  "language_info": {
   "codemirror_mode": {
    "name": "ipython",
    "version": 3
   },
   "file_extension": ".py",
   "mimetype": "text/x-python",
   "name": "python",
   "nbconvert_exporter": "python",
   "pygments_lexer": "ipython3",
   "version": "3.8.10"
  }
 },
 "nbformat": 4,
 "nbformat_minor": 5
}
