{
 "cells": [
  {
   "cell_type": "markdown",
   "id": "949548ce",
   "metadata": {},
   "source": [
    "# Installation Process of python in windows / linux"
   ]
  },
  {
   "cell_type": "markdown",
   "id": "0a29871b",
   "metadata": {},
   "source": [
    "In order to use python for software development , firstly we need to install it into our system.\n",
    "\n",
    "## Windows \n",
    "    1. Download the Python Installer from their official website (www.python.org).\n",
    "    2. Run the Executable Installer.\n",
    "    3. After installing the python try to run the command (python --version), if it returns us result  as (\"python is not considered as internal or external command\") then we need to set enviornment variable else installation is succesfull and environment variables are setup.\n",
    "    \n",
    "### python starter commands (windows)\n",
    "\n",
    "    1. python --version :- returns the version of python installed in system\n",
    "    2. where python :- Returns the path of python installation (address where python is installed in system)\n",
    "    3. python :- enters into python  interactive mode\n",
    "    \n",
    "## Linux\n",
    "    For almost every Linux system, the following command could be used to install Python directly:\n",
    "    1. sudo apt-get install <python version> (e.g sudp apt-get install python3.8)\n",
    "    2.verify the installation by using coomand python --version   \n",
    "       \n",
    "### python starter commands (linux)\n",
    "    1. python --version :- returns the version of python installed in system\n",
    "    2. which python :- Returns the path of python installation (address where python is installed in system)\n",
    "    3. python :- enters into python  interactive mode\n"
   ]
  },
  {
   "cell_type": "markdown",
   "id": "6e4f30dc",
   "metadata": {},
   "source": [
    "# Running Python Program\n",
    "\n",
    "    There are different ways to run a python program or to create a python program.These Are as follows\n",
    "        1. The Python Interactive mode\n",
    "        2. Python Text Editor / Command Line       \n",
    "        5. Python IDE (Pycharm)\n",
    "        "
   ]
  },
  {
   "cell_type": "markdown",
   "id": "01b6a894",
   "metadata": {},
   "source": [
    "## 1. The Python Interactive mode\n",
    "    \n",
    "    This is the most frequently used and easy way to run a Python code. Here basically we do the following:\n",
    "        1. Open command prompt / terminal in your system\n",
    "        2. Enter the command - python or python3 (based on python version installed in your system)\n",
    "        3. If we see these : >>> then, we are into our python prompt. It will look something like this:       \n",
    "`C:\\Users\\ushna>python` <br>\n",
    "`Python 3.9.2 (tags/v3.9.2:1a79785, Feb 19 2021, 13:44:55) [MSC v.1928 64 bit (AMD64)] on win32\n",
    "Type \"help\", \"copyright\", \"credits\" or \"license\" for more information.`<br>\n",
    "`>>>`\n",
    "\n",
    "### Advantages of using interactive mode\n",
    "\n",
    "    1. Best for testing every single line of code written.\n",
    "    2. In this approach, each line of code is evaluated and executed immediately as soon as we hit ↵ Enter.\n",
    "    3. Great deveopment tool for experimentation of Python code on the way.\n",
    "    \n",
    "### Disadvantages of using interactive mode\n",
    "       \n",
    "    1. The code is gone as soon as we close the terminal(or the interactive session)\n",
    "    2. Not user friendly way to write long code.\n",
    "    \n",
    "### Closing the interactive session\n",
    "\n",
    "    1. Type quit() or exit()\n",
    "    2. Press ctrl + z and hit ↵ Enter for windows. For linux, we can press ctrl+d."
   ]
  },
  {
   "cell_type": "markdown",
   "id": "ee7f6466",
   "metadata": {},
   "source": [
    "## 2. Using the Text Editor /  Command Line\n",
    "    \n",
    "    Follow the below steps to run a Python Code through command line -\n",
    "        1. Write your Python code into any text editor.\n",
    "        2. Save it with the extension .py into a suitable directory.\n",
    "        3. Open the terminal or command prompt.\n",
    "        4. Type python followed by the file name.py (e.g python my_program.py).\n",
    "        \n",
    "### Advantages\n",
    "\n",
    "    1. We can save our program for future.\n",
    "    2. Easy to write large programs.\n",
    "    \n",
    "### Disadvantges\n",
    "\n",
    "    1. Need to switch back and forth between text editor and command prompt / terminal to modify and execute our code respectively.\n",
    "    "
   ]
  },
  {
   "cell_type": "markdown",
   "id": "2e297b97",
   "metadata": {},
   "source": [
    "# 3. IDE\n",
    "    \n",
    "    An integrated development environment (IDE) is software for building applications that combines common developer tools into a single graphical user interface (GUI).\n",
    "    \n",
    "    An IDE typically contains a code editor, a compiler or interpreter, and a debugger, accessed through a single graphical user interface (GUI).\n",
    "    \n",
    "## IDE for python \n",
    "\n",
    "    JetBrains s.r.o. is a Czech software development company probides the best IDE for python software\n",
    "    development called PyCharm.\n",
    "    \n",
    "### Downloading Pycharm\n",
    "\n",
    "    1. Go to jetbrain's official website (https://www.jetbrains.com/).\n",
    "    2. Click on the developer tool in menu bar and then click on Pycharm , new page will be loaded.\n",
    "    3. Select your os(windows , mac and linux) and then select your edition of pychram(professional eddition is paid after one month of trail and community eddition is free. Profeesion eddition comes with lot more features).\n",
    "    4. After selecting the edition download the installer file.\n",
    "    5. Install the Software.\n",
    "\n",
    "  "
   ]
  },
  {
   "cell_type": "markdown",
   "id": "23e4546a",
   "metadata": {},
   "source": [
    "# Jupyter Notebook\n",
    "\n",
    "    The Jupyter Notebook is an open-source web application that allowsprogrammers create and share documents that integrate live code, equations, computational output, visualizations, and other multimedia resources, along with explanatory text in a single document.\n",
    "\n",
    "    A Jupyter Notebook provides you with an easy-to-use, interactive  environment that doesn’t only work as an integrated development environment (IDE), but also as a presentation or educational tool. \n",
    "    \n",
    "\n",
    "### Install the classic Jupyter Notebook with:\n",
    "\n",
    "    pip install notebook\n",
    "    \n",
    "### To run the notebook:\n",
    "\n",
    "    jupyter notebook"
   ]
  }
 ],
 "metadata": {
  "kernelspec": {
   "display_name": "Python 3 (ipykernel)",
   "language": "python",
   "name": "python3"
  },
  "language_info": {
   "codemirror_mode": {
    "name": "ipython",
    "version": 3
   },
   "file_extension": ".py",
   "mimetype": "text/x-python",
   "name": "python",
   "nbconvert_exporter": "python",
   "pygments_lexer": "ipython3",
   "version": "3.8.10"
  }
 },
 "nbformat": 4,
 "nbformat_minor": 5
}
